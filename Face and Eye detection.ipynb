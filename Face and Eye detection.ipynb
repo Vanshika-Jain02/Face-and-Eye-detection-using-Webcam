{
 "cells": [
  {
   "cell_type": "code",
   "execution_count": 3,
   "metadata": {},
   "outputs": [
    {
     "ename": "ModuleNotFoundError",
     "evalue": "No module named 'cv2'",
     "output_type": "error",
     "traceback": [
      "\u001b[1;31m---------------------------------------------------------------------------\u001b[0m",
      "\u001b[1;31mModuleNotFoundError\u001b[0m                       Traceback (most recent call last)",
      "\u001b[1;32m<ipython-input-3-cf4c529c1d2d>\u001b[0m in \u001b[0;36m<module>\u001b[1;34m\u001b[0m\n\u001b[1;32m----> 1\u001b[1;33m \u001b[1;32mimport\u001b[0m \u001b[0mcv2\u001b[0m\u001b[1;33m\u001b[0m\u001b[1;33m\u001b[0m\u001b[0m\n\u001b[0m\u001b[0;32m      2\u001b[0m \u001b[0mface_cascade\u001b[0m \u001b[1;33m=\u001b[0m \u001b[0mcv2\u001b[0m\u001b[1;33m.\u001b[0m\u001b[0mCascadeClassifier\u001b[0m\u001b[1;33m(\u001b[0m\u001b[1;34m'pythonPro\\haarcascade_frontalface_default.xml'\u001b[0m\u001b[1;33m)\u001b[0m\u001b[1;33m\u001b[0m\u001b[1;33m\u001b[0m\u001b[0m\n\u001b[0;32m      3\u001b[0m \u001b[0meye_cascade\u001b[0m \u001b[1;33m=\u001b[0m \u001b[0mcv2\u001b[0m\u001b[1;33m.\u001b[0m\u001b[0mCascadeClassifier\u001b[0m\u001b[1;33m(\u001b[0m\u001b[1;34m'pythonPro\\haarcascade_eye.xml'\u001b[0m\u001b[1;33m)\u001b[0m\u001b[1;33m\u001b[0m\u001b[1;33m\u001b[0m\u001b[0m\n\u001b[0;32m      4\u001b[0m \u001b[1;31m#banana_cascade = cv2.CascadeClassifier('pythonPro\\haarcascade_banana_classifier.xml')\u001b[0m\u001b[1;33m\u001b[0m\u001b[1;33m\u001b[0m\u001b[1;33m\u001b[0m\u001b[0m\n\u001b[0;32m      5\u001b[0m \u001b[0mcap\u001b[0m \u001b[1;33m=\u001b[0m \u001b[0mcv2\u001b[0m\u001b[1;33m.\u001b[0m\u001b[0mVideoCapture\u001b[0m\u001b[1;33m(\u001b[0m\u001b[1;36m0\u001b[0m\u001b[1;33m)\u001b[0m\u001b[1;33m\u001b[0m\u001b[1;33m\u001b[0m\u001b[0m\n",
      "\u001b[1;31mModuleNotFoundError\u001b[0m: No module named 'cv2'"
     ]
    }
   ],
   "source": [
    "import cv2 \n",
    "face_cascade = cv2.CascadeClassifier('pythonPro\\haarcascade_frontalface_default.xml')\n",
    "eye_cascade = cv2.CascadeClassifier('pythonPro\\haarcascade_eye.xml')\n",
    "#banana_cascade = cv2.CascadeClassifier('pythonPro\\haarcascade_banana_classifier.xml')\n",
    "cap = cv2.VideoCapture(0) \n",
    "while 1: \n",
    "    \n",
    "\tret, img = cap.read() \n",
    "        \n",
    "\t\n",
    "\tgray = cv2.cvtColor(img, cv2.COLOR_BGR2BGRA) \n",
    "\tfaces = face_cascade.detectMultiScale(gray,1.3,5)\n",
    "\teye = eye_cascade.detectMultiScale(gray,1.3,5)\n",
    "\t#banana = banana_cascade.detectMultiScale(gray,1.3,5)\n",
    "\tfor (x,y,w,h) in faces:\n",
    "\t        \n",
    "            cv2.rectangle(img, (x, y), (x+w, y+h), (250, 0, 250), 0)\n",
    "                \n",
    "            font = cv2.FONT_HERSHEY_DUPLEX  # color\n",
    "            cv2.putText(img, \"PERSON\", (x+w,y+h), font, 0.8, (0, 250, 0), 1)\n",
    "        \n",
    "        \n",
    "            for (x,y,w,h) in eye:\n",
    "\t        \n",
    "                cv2.rectangle(img, (x, y), (x+w, y+h), (0, 0, 250), 0)\n",
    "                \n",
    "                font = cv2.FONT_HERSHEY_DUPLEX  # color\n",
    "                cv2.putText(img, \"Eye\", (x+w,y+h), font, 0.8, (250, 250, 0), 1)\n",
    "                \n",
    "            \n",
    "\tcv2.imshow('OBJECT DETECTION',img) \n",
    "\n",
    "\tk = cv2.waitKey(30) & 0xff\n",
    "\tif k == 27: \n",
    "\t\tbreak\n",
    "\n",
    "\n",
    "cap.release()  \n",
    "cv2.destroyAllWindows() "
   ]
  },
  {
   "cell_type": "code",
   "execution_count": null,
   "metadata": {},
   "outputs": [],
   "source": []
  },
  {
   "cell_type": "code",
   "execution_count": null,
   "metadata": {},
   "outputs": [],
   "source": []
  }
 ],
 "metadata": {
  "kernelspec": {
   "display_name": "Python 3",
   "language": "python",
   "name": "python3"
  },
  "language_info": {
   "codemirror_mode": {
    "name": "ipython",
    "version": 3
   },
   "file_extension": ".py",
   "mimetype": "text/x-python",
   "name": "python",
   "nbconvert_exporter": "python",
   "pygments_lexer": "ipython3",
   "version": "3.7.3"
  }
 },
 "nbformat": 4,
 "nbformat_minor": 2
}
